{
 "cells": [
  {
   "cell_type": "code",
   "execution_count": 2,
   "id": "20ecbfce",
   "metadata": {},
   "outputs": [],
   "source": [
    "#import library\n",
    "import numpy as np\n",
    "import pandas as pd\n",
    "import matplotlib.pyplot as plt"
   ]
  },
  {
   "cell_type": "markdown",
   "id": "2d0d39e4",
   "metadata": {},
   "source": [
    "1- Préparation du dataset"
   ]
  },
  {
   "cell_type": "code",
   "execution_count": 3,
   "id": "c0ae9b4d",
   "metadata": {},
   "outputs": [],
   "source": [
    "#import dataset\n",
    "dataset = pd.read_csv(\".././dataset/iris.csv\")"
   ]
  },
  {
   "cell_type": "code",
   "execution_count": 4,
   "id": "cef82f88",
   "metadata": {},
   "outputs": [
    {
     "data": {
      "text/html": [
       "<div>\n",
       "<style scoped>\n",
       "    .dataframe tbody tr th:only-of-type {\n",
       "        vertical-align: middle;\n",
       "    }\n",
       "\n",
       "    .dataframe tbody tr th {\n",
       "        vertical-align: top;\n",
       "    }\n",
       "\n",
       "    .dataframe thead th {\n",
       "        text-align: right;\n",
       "    }\n",
       "</style>\n",
       "<table border=\"1\" class=\"dataframe\">\n",
       "  <thead>\n",
       "    <tr style=\"text-align: right;\">\n",
       "      <th></th>\n",
       "      <th>sepal_length</th>\n",
       "      <th>sepal_width</th>\n",
       "      <th>petal_length</th>\n",
       "      <th>petal_width</th>\n",
       "      <th>class</th>\n",
       "    </tr>\n",
       "  </thead>\n",
       "  <tbody>\n",
       "    <tr>\n",
       "      <th>0</th>\n",
       "      <td>5.1</td>\n",
       "      <td>3.5</td>\n",
       "      <td>1.4</td>\n",
       "      <td>0.2</td>\n",
       "      <td>Iris-setosa</td>\n",
       "    </tr>\n",
       "    <tr>\n",
       "      <th>1</th>\n",
       "      <td>4.9</td>\n",
       "      <td>3.0</td>\n",
       "      <td>1.4</td>\n",
       "      <td>0.2</td>\n",
       "      <td>Iris-setosa</td>\n",
       "    </tr>\n",
       "    <tr>\n",
       "      <th>2</th>\n",
       "      <td>4.7</td>\n",
       "      <td>3.2</td>\n",
       "      <td>1.3</td>\n",
       "      <td>0.2</td>\n",
       "      <td>Iris-setosa</td>\n",
       "    </tr>\n",
       "    <tr>\n",
       "      <th>3</th>\n",
       "      <td>4.6</td>\n",
       "      <td>3.1</td>\n",
       "      <td>1.5</td>\n",
       "      <td>0.2</td>\n",
       "      <td>Iris-setosa</td>\n",
       "    </tr>\n",
       "    <tr>\n",
       "      <th>4</th>\n",
       "      <td>5.0</td>\n",
       "      <td>3.6</td>\n",
       "      <td>1.4</td>\n",
       "      <td>0.2</td>\n",
       "      <td>Iris-setosa</td>\n",
       "    </tr>\n",
       "    <tr>\n",
       "      <th>...</th>\n",
       "      <td>...</td>\n",
       "      <td>...</td>\n",
       "      <td>...</td>\n",
       "      <td>...</td>\n",
       "      <td>...</td>\n",
       "    </tr>\n",
       "    <tr>\n",
       "      <th>145</th>\n",
       "      <td>6.7</td>\n",
       "      <td>3.0</td>\n",
       "      <td>5.2</td>\n",
       "      <td>2.3</td>\n",
       "      <td>Iris-virginica</td>\n",
       "    </tr>\n",
       "    <tr>\n",
       "      <th>146</th>\n",
       "      <td>6.3</td>\n",
       "      <td>2.5</td>\n",
       "      <td>5.0</td>\n",
       "      <td>1.9</td>\n",
       "      <td>Iris-virginica</td>\n",
       "    </tr>\n",
       "    <tr>\n",
       "      <th>147</th>\n",
       "      <td>6.5</td>\n",
       "      <td>3.0</td>\n",
       "      <td>5.2</td>\n",
       "      <td>2.0</td>\n",
       "      <td>Iris-virginica</td>\n",
       "    </tr>\n",
       "    <tr>\n",
       "      <th>148</th>\n",
       "      <td>6.2</td>\n",
       "      <td>3.4</td>\n",
       "      <td>5.4</td>\n",
       "      <td>2.3</td>\n",
       "      <td>Iris-virginica</td>\n",
       "    </tr>\n",
       "    <tr>\n",
       "      <th>149</th>\n",
       "      <td>5.9</td>\n",
       "      <td>3.0</td>\n",
       "      <td>5.1</td>\n",
       "      <td>1.8</td>\n",
       "      <td>Iris-virginica</td>\n",
       "    </tr>\n",
       "  </tbody>\n",
       "</table>\n",
       "<p>150 rows × 5 columns</p>\n",
       "</div>"
      ],
      "text/plain": [
       "     sepal_length  sepal_width  petal_length  petal_width           class\n",
       "0             5.1          3.5           1.4          0.2     Iris-setosa\n",
       "1             4.9          3.0           1.4          0.2     Iris-setosa\n",
       "2             4.7          3.2           1.3          0.2     Iris-setosa\n",
       "3             4.6          3.1           1.5          0.2     Iris-setosa\n",
       "4             5.0          3.6           1.4          0.2     Iris-setosa\n",
       "..            ...          ...           ...          ...             ...\n",
       "145           6.7          3.0           5.2          2.3  Iris-virginica\n",
       "146           6.3          2.5           5.0          1.9  Iris-virginica\n",
       "147           6.5          3.0           5.2          2.0  Iris-virginica\n",
       "148           6.2          3.4           5.4          2.3  Iris-virginica\n",
       "149           5.9          3.0           5.1          1.8  Iris-virginica\n",
       "\n",
       "[150 rows x 5 columns]"
      ]
     },
     "execution_count": 4,
     "metadata": {},
     "output_type": "execute_result"
    }
   ],
   "source": [
    "#visualisation of my dataset\n",
    "dataset"
   ]
  },
  {
   "cell_type": "code",
   "execution_count": 5,
   "id": "56740588",
   "metadata": {},
   "outputs": [
    {
     "data": {
      "text/plain": [
       "Text(0, 0.5, 'sepal_width')"
      ]
     },
     "execution_count": 5,
     "metadata": {},
     "output_type": "execute_result"
    },
    {
     "data": {
      "image/png": "[encoded data removed]",
      "text/plain": [
       "<Figure size 640x480 with 1 Axes>"
      ]
     },
     "metadata": {},
     "output_type": "display_data"
    }
   ],
   "source": [
    "#Prédire la largeur de sépale en fonction de la longueur de pétale\n",
    "petal_width = np.array(dataset[\"sepal_width\"])\n",
    "petal_length = np.array(dataset[\"petal_width\"])\n",
    "\n",
    "plt.scatter(petal_length,petal_width)\n",
    "plt.xlabel(\"sepal_length\")\n",
    "plt.ylabel(\"sepal_width\")"
   ]
  },
  {
   "cell_type": "code",
   "execution_count": 6,
   "id": "0fd36a27",
   "metadata": {},
   "outputs": [],
   "source": [
    "#reshape petal width value\n",
    "y = petal_width.reshape(petal_width.shape[0], 1) # Target\n",
    "\n",
    "#reshape petal length value to (150,1)\n",
    "petal_length = petal_length.reshape(petal_length.shape[0],1)"
   ]
  },
  {
   "cell_type": "code",
   "execution_count": 73,
   "id": "d2e57487",
   "metadata": {},
   "outputs": [],
   "source": [
    "#Try to put X to (150, 3)\n",
    "x = petal_length\n",
    "X = np.hstack((x, np.ones(x.shape)))\n",
    "X = np.hstack((x**2, X))\n"
   ]
  },
  {
   "cell_type": "code",
   "execution_count": 74,
   "id": "82cce2ab",
   "metadata": {},
   "outputs": [
    {
     "data": {
      "text/plain": [
       "array([[0.04, 0.2 , 1.  ],\n",
       "       [0.04, 0.2 , 1.  ],\n",
       "       [0.04, 0.2 , 1.  ],\n",
       "       [0.04, 0.2 , 1.  ],\n",
       "       [0.04, 0.2 , 1.  ],\n",
       "       [0.16, 0.4 , 1.  ],\n",
       "       [0.09, 0.3 , 1.  ],\n",
       "       [0.04, 0.2 , 1.  ],\n",
       "       [0.04, 0.2 , 1.  ],\n",
       "       [0.01, 0.1 , 1.  ],\n",
       "       [0.04, 0.2 , 1.  ],\n",
       "       [0.04, 0.2 , 1.  ],\n",
       "       [0.01, 0.1 , 1.  ],\n",
       "       [0.01, 0.1 , 1.  ],\n",
       "       [0.04, 0.2 , 1.  ],\n",
       "       [0.16, 0.4 , 1.  ],\n",
       "       [0.16, 0.4 , 1.  ],\n",
       "       [0.09, 0.3 , 1.  ],\n",
       "       [0.09, 0.3 , 1.  ],\n",
       "       [0.09, 0.3 , 1.  ],\n",
       "       [0.04, 0.2 , 1.  ],\n",
       "       [0.16, 0.4 , 1.  ],\n",
       "       [0.04, 0.2 , 1.  ],\n",
       "       [0.25, 0.5 , 1.  ],\n",
       "       [0.04, 0.2 , 1.  ],\n",
       "       [0.04, 0.2 , 1.  ],\n",
       "       [0.16, 0.4 , 1.  ],\n",
       "       [0.04, 0.2 , 1.  ],\n",
       "       [0.04, 0.2 , 1.  ],\n",
       "       [0.04, 0.2 , 1.  ],\n",
       "       [0.04, 0.2 , 1.  ],\n",
       "       [0.16, 0.4 , 1.  ],\n",
       "       [0.01, 0.1 , 1.  ],\n",
       "       [0.04, 0.2 , 1.  ],\n",
       "       [0.01, 0.1 , 1.  ],\n",
       "       [0.04, 0.2 , 1.  ],\n",
       "       [0.04, 0.2 , 1.  ],\n",
       "       [0.01, 0.1 , 1.  ],\n",
       "       [0.04, 0.2 , 1.  ],\n",
       "       [0.04, 0.2 , 1.  ],\n",
       "       [0.09, 0.3 , 1.  ],\n",
       "       [0.09, 0.3 , 1.  ],\n",
       "       [0.04, 0.2 , 1.  ],\n",
       "       [0.36, 0.6 , 1.  ],\n",
       "       [0.16, 0.4 , 1.  ],\n",
       "       [0.09, 0.3 , 1.  ],\n",
       "       [0.04, 0.2 , 1.  ],\n",
       "       [0.04, 0.2 , 1.  ],\n",
       "       [0.04, 0.2 , 1.  ],\n",
       "       [0.04, 0.2 , 1.  ],\n",
       "       [1.96, 1.4 , 1.  ],\n",
       "       [2.25, 1.5 , 1.  ],\n",
       "       [2.25, 1.5 , 1.  ],\n",
       "       [1.69, 1.3 , 1.  ],\n",
       "       [2.25, 1.5 , 1.  ],\n",
       "       [1.69, 1.3 , 1.  ],\n",
       "       [2.56, 1.6 , 1.  ],\n",
       "       [1.  , 1.  , 1.  ],\n",
       "       [1.69, 1.3 , 1.  ],\n",
       "       [1.96, 1.4 , 1.  ],\n",
       "       [1.  , 1.  , 1.  ],\n",
       "       [2.25, 1.5 , 1.  ],\n",
       "       [1.  , 1.  , 1.  ],\n",
       "       [1.96, 1.4 , 1.  ],\n",
       "       [1.69, 1.3 , 1.  ],\n",
       "       [1.96, 1.4 , 1.  ],\n",
       "       [2.25, 1.5 , 1.  ],\n",
       "       [1.  , 1.  , 1.  ],\n",
       "       [2.25, 1.5 , 1.  ],\n",
       "       [1.21, 1.1 , 1.  ],\n",
       "       [3.24, 1.8 , 1.  ],\n",
       "       [1.69, 1.3 , 1.  ],\n",
       "       [2.25, 1.5 , 1.  ],\n",
       "       [1.44, 1.2 , 1.  ],\n",
       "       [1.69, 1.3 , 1.  ],\n",
       "       [1.96, 1.4 , 1.  ],\n",
       "       [1.96, 1.4 , 1.  ],\n",
       "       [2.89, 1.7 , 1.  ],\n",
       "       [2.25, 1.5 , 1.  ],\n",
       "       [1.  , 1.  , 1.  ],\n",
       "       [1.21, 1.1 , 1.  ],\n",
       "       [1.  , 1.  , 1.  ],\n",
       "       [1.44, 1.2 , 1.  ],\n",
       "       [2.56, 1.6 , 1.  ],\n",
       "       [2.25, 1.5 , 1.  ],\n",
       "       [2.56, 1.6 , 1.  ],\n",
       "       [2.25, 1.5 , 1.  ],\n",
       "       [1.69, 1.3 , 1.  ],\n",
       "       [1.69, 1.3 , 1.  ],\n",
       "       [1.69, 1.3 , 1.  ],\n",
       "       [1.44, 1.2 , 1.  ],\n",
       "       [1.96, 1.4 , 1.  ],\n",
       "       [1.44, 1.2 , 1.  ],\n",
       "       [1.  , 1.  , 1.  ],\n",
       "       [1.69, 1.3 , 1.  ],\n",
       "       [1.44, 1.2 , 1.  ],\n",
       "       [1.69, 1.3 , 1.  ],\n",
       "       [1.69, 1.3 , 1.  ],\n",
       "       [1.21, 1.1 , 1.  ],\n",
       "       [1.69, 1.3 , 1.  ],\n",
       "       [6.25, 2.5 , 1.  ],\n",
       "       [3.61, 1.9 , 1.  ],\n",
       "       [4.41, 2.1 , 1.  ],\n",
       "       [3.24, 1.8 , 1.  ],\n",
       "       [4.84, 2.2 , 1.  ],\n",
       "       [4.41, 2.1 , 1.  ],\n",
       "       [2.89, 1.7 , 1.  ],\n",
       "       [3.24, 1.8 , 1.  ],\n",
       "       [3.24, 1.8 , 1.  ],\n",
       "       [6.25, 2.5 , 1.  ],\n",
       "       [4.  , 2.  , 1.  ],\n",
       "       [3.61, 1.9 , 1.  ],\n",
       "       [4.41, 2.1 , 1.  ],\n",
       "       [4.  , 2.  , 1.  ],\n",
       "       [5.76, 2.4 , 1.  ],\n",
       "       [5.29, 2.3 , 1.  ],\n",
       "       [3.24, 1.8 , 1.  ],\n",
       "       [4.84, 2.2 , 1.  ],\n",
       "       [5.29, 2.3 , 1.  ],\n",
       "       [2.25, 1.5 , 1.  ],\n",
       "       [5.29, 2.3 , 1.  ],\n",
       "       [4.  , 2.  , 1.  ],\n",
       "       [4.  , 2.  , 1.  ],\n",
       "       [3.24, 1.8 , 1.  ],\n",
       "       [4.41, 2.1 , 1.  ],\n",
       "       [3.24, 1.8 , 1.  ],\n",
       "       [3.24, 1.8 , 1.  ],\n",
       "       [3.24, 1.8 , 1.  ],\n",
       "       [4.41, 2.1 , 1.  ],\n",
       "       [2.56, 1.6 , 1.  ],\n",
       "       [3.61, 1.9 , 1.  ],\n",
       "       [4.  , 2.  , 1.  ],\n",
       "       [4.84, 2.2 , 1.  ],\n",
       "       [2.25, 1.5 , 1.  ],\n",
       "       [1.96, 1.4 , 1.  ],\n",
       "       [5.29, 2.3 , 1.  ],\n",
       "       [5.76, 2.4 , 1.  ],\n",
       "       [3.24, 1.8 , 1.  ],\n",
       "       [3.24, 1.8 , 1.  ],\n",
       "       [4.41, 2.1 , 1.  ],\n",
       "       [5.76, 2.4 , 1.  ],\n",
       "       [5.29, 2.3 , 1.  ],\n",
       "       [3.61, 1.9 , 1.  ],\n",
       "       [5.29, 2.3 , 1.  ],\n",
       "       [6.25, 2.5 , 1.  ],\n",
       "       [5.29, 2.3 , 1.  ],\n",
       "       [3.61, 1.9 , 1.  ],\n",
       "       [4.  , 2.  , 1.  ],\n",
       "       [5.29, 2.3 , 1.  ],\n",
       "       [3.24, 1.8 , 1.  ]])"
      ]
     },
     "execution_count": 74,
     "metadata": {},
     "output_type": "execute_result"
    }
   ],
   "source": [
    "#Visualise x\n",
    "X   #features"
   ]
  },
  {
   "cell_type": "code",
   "execution_count": 75,
   "id": "07a94101",
   "metadata": {},
   "outputs": [
    {
     "data": {
      "text/plain": [
       "(150, 3)"
      ]
     },
     "execution_count": 75,
     "metadata": {},
     "output_type": "execute_result"
    }
   ],
   "source": [
    "X.shape"
   ]
  },
  {
   "cell_type": "code",
   "execution_count": 60,
   "id": "45a9f675",
   "metadata": {},
   "outputs": [],
   "source": [
    "#Initialisation du vecteur theta avec 3 éléments\n",
    "theta = np.random.randn(3,1)"
   ]
  },
  {
   "cell_type": "code",
   "execution_count": 61,
   "id": "64caa1a2",
   "metadata": {},
   "outputs": [
    {
     "data": {
      "text/plain": [
       "array([[ 1.0432541 ],\n",
       "       [-0.93926734],\n",
       "       [ 0.37145158]])"
      ]
     },
     "execution_count": 61,
     "metadata": {},
     "output_type": "execute_result"
    }
   ],
   "source": [
    "#visualise theta\n",
    "theta"
   ]
  },
  {
   "cell_type": "markdown",
   "id": "af7472cc",
   "metadata": {},
   "source": [
    "2- Modèle polynomiale"
   ]
  },
  {
   "cell_type": "code",
   "execution_count": 62,
   "id": "82d2255f",
   "metadata": {},
   "outputs": [],
   "source": [
    "#model function\n",
    "def model(X,theta):\n",
    "    return X.dot(theta)"
   ]
  },
  {
   "cell_type": "code",
   "execution_count": 76,
   "id": "7f8c6934",
   "metadata": {},
   "outputs": [
    {
     "data": {
      "image/png": "[encoded data removed]",
      "text/plain": [
       "<Figure size 640x480 with 1 Axes>"
      ]
     },
     "metadata": {},
     "output_type": "display_data"
    }
   ],
   "source": [
    "plt.scatter(petal_length, y, label =\"Dataset\")\n",
    "plt.scatter(petal_length, model(X, theta), label=\"Modèle initial\", c=\"r\")\n",
    "plt.xlabel(\"petal_length\")\n",
    "plt.ylabel(\"petal_width\")\n",
    "plt.legend()\n",
    "plt.show()"
   ]
  },
  {
   "cell_type": "markdown",
   "id": "d5bd0698",
   "metadata": {},
   "source": [
    "3- La fonction cout"
   ]
  },
  {
   "cell_type": "code",
   "execution_count": 77,
   "id": "6d8f56e1",
   "metadata": {},
   "outputs": [],
   "source": [
    "def cost_function(X,y, theta):\n",
    "    m = len(y)\n",
    "    cost = (1/2*m)* np.sum((y - model(X,theta))**2)\n",
    "    return cost"
   ]
  },
  {
   "cell_type": "code",
   "execution_count": 78,
   "id": "976c0dce",
   "metadata": {},
   "outputs": [
    {
     "data": {
      "text/plain": [
       "53352.21381965796"
      ]
     },
     "execution_count": 78,
     "metadata": {},
     "output_type": "execute_result"
    }
   ],
   "source": [
    "#Value of cost function\n",
    "cost_function(X,y,theta)"
   ]
  },
  {
   "cell_type": "markdown",
   "id": "e8b6cca1",
   "metadata": {},
   "source": [
    "4- Descent gradient"
   ]
  },
  {
   "cell_type": "code",
   "execution_count": 79,
   "id": "4312ae63",
   "metadata": {},
   "outputs": [],
   "source": [
    "def grad(X,y,theta):\n",
    "    m = len(y)\n",
    "    grad = (1/m)* X.T.dot(model(X,theta)-y)\n",
    "    return grad"
   ]
  },
  {
   "cell_type": "code",
   "execution_count": 80,
   "id": "117a8b57",
   "metadata": {},
   "outputs": [],
   "source": [
    "def descent_gradient(X,y, theta, learning_rate, n_iterations):\n",
    "    cost_history = np.zeros(n_iterations) # création d'un tableau de stockage pour enregistrer l'évolution du Cout du modele\n",
    "    \n",
    "    for i in range(0,n_iterations):\n",
    "        theta = theta - learning_rate*grad(X,y,theta) # mise a jour du parametre theta (formule du gradient descent)\n",
    "        cost_history[i] = cost_function(X,y,theta) # on enregistre la valeur du Cout au tour i dans cost_history[i]\n",
    "        \n",
    "    return theta, cost_history\n",
    "        "
   ]
  },
  {
   "cell_type": "markdown",
   "id": "b01a12f3",
   "metadata": {},
   "source": [
    "Phase d'entrainement"
   ]
  },
  {
   "cell_type": "code",
   "execution_count": 122,
   "id": "e9f6928f",
   "metadata": {},
   "outputs": [],
   "source": [
    "learning_rate = 0.15\n",
    "n_iterations = 1000\n",
    "theta_final, cost_history = descent_gradient(X,y,theta,learning_rate,n_iterations)"
   ]
  },
  {
   "cell_type": "code",
   "execution_count": 123,
   "id": "9b45a7f9",
   "metadata": {},
   "outputs": [
    {
     "data": {
      "text/plain": [
       "array([[ 0.44427656],\n",
       "       [-1.23150889],\n",
       "       [ 3.6346426 ]])"
      ]
     },
     "execution_count": 123,
     "metadata": {},
     "output_type": "execute_result"
    }
   ],
   "source": [
    "theta_final"
   ]
  },
  {
   "cell_type": "code",
   "execution_count": 113,
   "id": "556f9387",
   "metadata": {},
   "outputs": [
    {
     "data": {
      "image/png": "[encoded data removed]",
      "text/plain": [
       "<Figure size 640x480 with 1 Axes>"
      ]
     },
     "metadata": {},
     "output_type": "display_data"
    }
   ],
   "source": [
    "plt.scatter(petal_length, y, label =\"Dataset\")\n",
    "plt.scatter(petal_length, model(X, theta_final), label=\"Modèle initial\", c=\"r\")\n",
    "predictions = model(X, theta_final)\n",
    "plt.xlabel(\"petal_length\")\n",
    "plt.ylabel(\"petal_width\")\n",
    "plt.legend()\n",
    "plt.show()"
   ]
  },
  {
   "cell_type": "markdown",
   "id": "4e3a2ad2",
   "metadata": {},
   "source": [
    "Courbe d'apprentissage"
   ]
  },
  {
   "cell_type": "code",
   "execution_count": 127,
   "id": "d32b6b5d",
   "metadata": {},
   "outputs": [
    {
     "data": {
      "image/png": "[encoded data removed]",
      "text/plain": [
       "<Figure size 640x480 with 1 Axes>"
      ]
     },
     "metadata": {},
     "output_type": "display_data"
    }
   ],
   "source": [
    "plt.plot(range(n_iterations), cost_history)\n",
    "plt.show()"
   ]
  },
  {
   "cell_type": "markdown",
   "id": "d2e90e3f",
   "metadata": {},
   "source": [
    "Coefficient de determaination"
   ]
  },
  {
   "cell_type": "code",
   "execution_count": 125,
   "id": "2fbacbc4",
   "metadata": {},
   "outputs": [],
   "source": [
    "def coef_determination(y, pred):\n",
    "    u = ((y - pred)**2).sum()\n",
    "    v = ((y - y.mean())**2).sum()\n",
    "    return 1 - u/v"
   ]
  },
  {
   "cell_type": "code",
   "execution_count": 126,
   "id": "75b3ef96",
   "metadata": {},
   "outputs": [
    {
     "data": {
      "text/plain": [
       "0.36420034423673786"
      ]
     },
     "execution_count": 126,
     "metadata": {},
     "output_type": "execute_result"
    }
   ],
   "source": [
    "coef_determination(y, predictions)"
   ]
  },
  {
   "cell_type": "code",
   "execution_count": null,
   "id": "a64d29c3",
   "metadata": {},
   "outputs": [],
   "source": []
  }
 ],
 "metadata": {
  "kernelspec": {
   "display_name": "Python 3 (ipykernel)",
   "language": "python",
   "name": "python3"
  },
  "language_info": {
   "codemirror_mode": {
    "name": "ipython",
    "version": 3
   },
   "file_extension": ".py",
   "mimetype": "text/x-python",
   "name": "python",
   "nbconvert_exporter": "python",
   "pygments_lexer": "ipython3",
   "version": "3.10.9"
  }
 },
 "nbformat": 4,
 "nbformat_minor": 5
}
